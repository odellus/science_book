{
 "cells": [
  {
   "cell_type": "code",
   "execution_count": null,
   "id": "5e63ca50",
   "metadata": {},
   "outputs": [],
   "source": []
  },
  {
   "cell_type": "markdown",
   "id": "8f890fa5",
   "metadata": {},
   "source": [
    "---\n",
    "title: A science book\n",
    "subtitle: We're working ova heya\n",
    "authors:\n",
    "    - name: Thomas Wood\n",
    "      orcid: 0009-0001-6099-2115\n",
    "      affiliations:\n",
    "        - Phytomech Industries\n",
    "license: Apache-2.0\n",
    "---\n",
    "\n",
    "\n",
    ":::{math}\n",
    "\\nabla \\cdot \\bold{E} = \\frac{\\rho}{\\epsilon_0}\n",
    ":::\n"
   ]
  },
  {
   "cell_type": "markdown",
   "id": "57c6f3db",
   "metadata": {},
   "source": []
  }
 ],
 "metadata": {
  "kernelspec": {
   "display_name": "Python 3 (ipykernel)",
   "language": "python",
   "name": "python3"
  }
 },
 "nbformat": 4,
 "nbformat_minor": 5
}
